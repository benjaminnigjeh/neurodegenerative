{
  "nbformat": 4,
  "nbformat_minor": 0,
  "metadata": {
    "colab": {
      "provenance": [],
      "mount_file_id": "1oiwiAVdjkX0aQr3f4qrnRRBfqJlCGnoC",
      "authorship_tag": "ABX9TyPN+UupQVH0JEzxPex8GRFM",
      "include_colab_link": true
    },
    "kernelspec": {
      "name": "python3",
      "display_name": "Python 3"
    },
    "language_info": {
      "name": "python"
    }
  },
  "cells": [
    {
      "cell_type": "markdown",
      "metadata": {
        "id": "view-in-github",
        "colab_type": "text"
      },
      "source": [
        "<a href=\"https://colab.research.google.com/github/benjaminnigjeh/neurodegenerative/blob/main/automated_deconv.ipynb\" target=\"_parent\"><img src=\"https://colab.research.google.com/assets/colab-badge.svg\" alt=\"Open In Colab\"/></a>"
      ]
    },
    {
      "cell_type": "markdown",
      "source": [
        "#Install Fisher-py module"
      ],
      "metadata": {
        "id": "5Ogz3GZEzXcK"
      }
    },
    {
      "cell_type": "code",
      "execution_count": null,
      "metadata": {
        "id": "QiVnL8ilxqnM"
      },
      "outputs": [],
      "source": [
        "!apt-get update\n",
        "!apt-get install -y mono-complete\n",
        "!pip install fisher-py"
      ]
    },
    {
      "cell_type": "markdown",
      "source": [
        "#Import external libraries"
      ],
      "metadata": {
        "id": "LsRJkNev30_T"
      }
    },
    {
      "cell_type": "code",
      "source": [
        "from fisher_py.data.business import Scan\n",
        "from fisher_py import RawFile\n",
        "import re\n",
        "import pickle\n",
        "import pandas as pd\n",
        "import numpy as np\n",
        "from tqdm import tqdm"
      ],
      "metadata": {
        "colab": {
          "base_uri": "https://localhost:8080/"
        },
        "id": "RnDMBErg0C60",
        "outputId": "6f4e9f9b-dac9-44d6-d150-c593cc3d0a91"
      },
      "execution_count": 2,
      "outputs": [
        {
          "output_type": "stream",
          "name": "stderr",
          "text": [
            "/usr/local/lib/python3.10/dist-packages/clr_loader/mono.py:180: UserWarning: Hosting Mono versions before v6.12 is known to be problematic. If the process crashes shortly after you see this message, try updating Mono to at least v6.12.\n",
            "  warnings.warn(\n"
          ]
        }
      ]
    },
    {
      "cell_type": "markdown",
      "source": [
        "#Helper functions"
      ],
      "metadata": {
        "id": "0pKOxA4M36fP"
      }
    },
    {
      "cell_type": "code",
      "source": [
        "def helper_regex(text):\n",
        "    match = re.search(rf\"{'Full'}\\s+(\\w+)\", text)\n",
        "    if match:\n",
        "        return match.group(1)\n",
        "    return None"
      ],
      "metadata": {
        "id": "tyVclQnU1c_B"
      },
      "execution_count": 6,
      "outputs": []
    },
    {
      "cell_type": "code",
      "source": [
        "file_path = '/content/drive/MyDrive/20231221_msz1718_MAbPac-02_Neo_ExtraValveT_ACN30S1_TreatmentA_biorep01_techrep01.raw'\n",
        "raw = RawFile(file_path)"
      ],
      "metadata": {
        "id": "zowv8qmr0VtI"
      },
      "execution_count": 3,
      "outputs": []
    },
    {
      "cell_type": "code",
      "source": [
        "raw_scan = Scan.from_file(raw._raw_file_access, scan_number=10)\n",
        "if str(helper_regex(raw_scan.scan_type)) == 'ms': print('yes')"
      ],
      "metadata": {
        "colab": {
          "base_uri": "https://localhost:8080/"
        },
        "id": "BAZOVrLt0nv4",
        "outputId": "a0c873cd-ee54-4e1e-c676-57a1fb8f449d"
      },
      "execution_count": 8,
      "outputs": [
        {
          "output_type": "stream",
          "name": "stdout",
          "text": [
            "yes\n"
          ]
        }
      ]
    },
    {
      "cell_type": "code",
      "source": [
        "t = 0\n",
        "for i in tqdm(range(1, raw.number_of_scans), desc=\"Processing scans\", ncols=100):\n",
        "        raw_scan = Scan.from_file(raw._raw_file_access, scan_number=i)\n",
        "        if str(helper_regex(raw_scan.scan_type)) == 'ms':\n",
        "          t = t + 1\n",
        "\n",
        "print(t)"
      ],
      "metadata": {
        "colab": {
          "base_uri": "https://localhost:8080/"
        },
        "id": "n1bO5v1W4KZ6",
        "outputId": "31d6ed3a-ad39-4621-dcf9-195dd3ddab9f"
      },
      "execution_count": 10,
      "outputs": [
        {
          "output_type": "stream",
          "name": "stderr",
          "text": [
            "Processing scans: 100%|████████████████████████████████████████| 3269/3269 [00:27<00:00, 121.06it/s]"
          ]
        },
        {
          "output_type": "stream",
          "name": "stdout",
          "text": [
            "1490\n"
          ]
        },
        {
          "output_type": "stream",
          "name": "stderr",
          "text": [
            "\n"
          ]
        }
      ]
    }
  ]
}